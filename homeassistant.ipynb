{
 "cells": [
  {
   "cell_type": "markdown",
   "metadata": {
    "slideshow": {
     "slide_type": "slide"
    }
   },
   "source": [
    "# Python ile eviniz akıllı olsun"
   ]
  },
  {
   "cell_type": "markdown",
   "metadata": {},
   "source": [
    "Onur Güzel  \n",
    "Artistanbul  \n",
    " \n",
    "---  \n",
    " \n",
    "Python Saati #44  \n",
    "20 Şubat 2018, Hipo, İstanbul"
   ]
  },
  {
   "cell_type": "markdown",
   "metadata": {
    "slideshow": {
     "slide_type": "slide"
    }
   },
   "source": [
    "## Home Assistant"
   ]
  },
  {
   "cell_type": "markdown",
   "metadata": {
    "slideshow": {
     "slide_type": "fragment"
    }
   },
   "source": [
    "* Ev otomasyonu platformu"
   ]
  },
  {
   "cell_type": "markdown",
   "metadata": {
    "slideshow": {
     "slide_type": "fragment"
    }
   },
   "source": [
    "* Python 3 projesi"
   ]
  },
  {
   "cell_type": "markdown",
   "metadata": {
    "slideshow": {
     "slide_type": "fragment"
    }
   },
   "source": [
    "* bkz. [home-assistant.io](https://home-assistant.io/)"
   ]
  },
  {
   "cell_type": "markdown",
   "metadata": {
    "slideshow": {
     "slide_type": "slide"
    }
   },
   "source": [
    "## Nasıl kurarım?"
   ]
  },
  {
   "cell_type": "markdown",
   "metadata": {
    "slideshow": {
     "slide_type": "fragment"
    }
   },
   "source": [
    "`$ pip install homeassistant`"
   ]
  },
  {
   "cell_type": "markdown",
   "metadata": {
    "slideshow": {
     "slide_type": "fragment"
    }
   },
   "source": [
    "## Nasıl çalıştırırım?"
   ]
  },
  {
   "cell_type": "markdown",
   "metadata": {
    "slideshow": {
     "slide_type": "fragment"
    }
   },
   "source": [
    "`$ hass`"
   ]
  },
  {
   "cell_type": "markdown",
   "metadata": {
    "slideshow": {
     "slide_type": "slide"
    }
   },
   "source": [
    "## Neye benziyor?"
   ]
  },
  {
   "cell_type": "code",
   "execution_count": 1,
   "metadata": {
    "slideshow": {
     "slide_type": "fragment"
    }
   },
   "outputs": [
    {
     "data": {
      "text/html": [
       "\n",
       "        <iframe\n",
       "            width=\"640\"\n",
       "            height=\"320\"\n",
       "            src=\"http://localhost:8123/\"\n",
       "            frameborder=\"0\"\n",
       "            allowfullscreen\n",
       "        ></iframe>\n",
       "        "
      ],
      "text/plain": [
       "<IPython.lib.display.IFrame at 0x10f35b4a8>"
      ]
     },
     "execution_count": 1,
     "metadata": {},
     "output_type": "execute_result"
    }
   ],
   "source": [
    "from IPython.display import IFrame\n",
    "IFrame(\"http://localhost:8123/\", width=\"640\", height=\"320\")"
   ]
  },
  {
   "cell_type": "markdown",
   "metadata": {
    "slideshow": {
     "slide_type": "slide"
    }
   },
   "source": [
    "## Ooo, havalı! 😎"
   ]
  },
  {
   "cell_type": "markdown",
   "metadata": {
    "slideshow": {
     "slide_type": "fragment"
    }
   },
   "source": [
    "* Sihir'e inanıyor muyum?"
   ]
  },
  {
   "cell_type": "markdown",
   "metadata": {
    "slideshow": {
     "slide_type": "fragment"
    }
   },
   "source": [
    "* State"
   ]
  },
  {
   "cell_type": "markdown",
   "metadata": {
    "slideshow": {
     "slide_type": "fragment"
    }
   },
   "source": [
    "* Event"
   ]
  },
  {
   "cell_type": "markdown",
   "metadata": {
    "slideshow": {
     "slide_type": "fragment"
    }
   },
   "source": [
    "* Component"
   ]
  },
  {
   "cell_type": "markdown",
   "metadata": {
    "slideshow": {
     "slide_type": "slide"
    }
   },
   "source": [
    "## Oyun başlasın!"
   ]
  },
  {
   "cell_type": "markdown",
   "metadata": {
    "slideshow": {
     "slide_type": "fragment"
    }
   },
   "source": [
    "* Python ile neler yapabilirim? "
   ]
  },
  {
   "cell_type": "markdown",
   "metadata": {
    "slideshow": {
     "slide_type": "fragment"
    }
   },
   "source": [
    "* Kendi bileşenlerimi oluşturabilirim."
   ]
  },
  {
   "cell_type": "markdown",
   "metadata": {
    "slideshow": {
     "slide_type": "slide"
    }
   },
   "source": [
    "## Sihir'e inanıyorum 🧙🏻‍♂️"
   ]
  },
  {
   "cell_type": "markdown",
   "metadata": {
    "slideshow": {
     "slide_type": "fragment"
    }
   },
   "source": [
    "<img src=\"http://localhost:8000/goblet.gif\">"
   ]
  },
  {
   "cell_type": "markdown",
   "metadata": {
    "slideshow": {
     "slide_type": "slide"
    }
   },
   "source": [
    "## Weasley Saati"
   ]
  },
  {
   "cell_type": "markdown",
   "metadata": {
    "slideshow": {
     "slide_type": "fragment"
    }
   },
   "source": [
    "<img src=\"http://localhost:8000/clock.gif\">"
   ]
  },
  {
   "cell_type": "markdown",
   "metadata": {
    "slideshow": {
     "slide_type": "slide"
    }
   },
   "source": [
    "## Component: Weasley Clock"
   ]
  },
  {
   "cell_type": "markdown",
   "metadata": {
    "slideshow": {
     "slide_type": "fragment"
    }
   },
   "source": [
    "```\n",
    "DOMAIN = \"weasley_clock\"\n",
    "\n",
    "import homeassistant.helpers.config_validation as cv\n",
    "import voluptuous as vol\n",
    "\n",
    "from homeassistant.components.zone import DOMAIN as ZONE_DOMAIN\n",
    "from homeassistant.components.zone import ENTITY_ID_FORMAT as ZONE_ENTITY_ID_FORMAT\n",
    "from homeassistant.const import CONF_ENTITY_ID\n",
    "from homeassistant.helpers.condition import zone as in_zone\n",
    "\n",
    "\n",
    "def setup(hass, config):\n",
    "    def handle_event(event):\n",
    "        entity_id = event.data.get(CONF_ENTITY_ID)\n",
    "        if entity_id != config[DOMAIN].get(CONF_ENTITY_ID):\n",
    "            return\n",
    "\n",
    "        import requests\n",
    "        clock = \"http://{}:8000/clock/ping\".format(config[DOMAIN].get(\"clock_host\"))\n",
    "        for zone in config[ZONE_DOMAIN] + [{\"name\": \"Home\"}]:\n",
    "            zone_entity_id = ZONE_ENTITY_ID_FORMAT.format(zone.get(\"name\").lower())\n",
    "            if in_zone(hass, zone_entity_id, entity_id):\n",
    "                requests.post(clock, data={\"zone\": zone_entity_id.split(\".\")[-1]})\n",
    "                return True\n",
    "\n",
    "        requests.post(clock, data={\"zone\": \"away\"})\n",
    "        return True\n",
    "\n",
    "    hass.bus.listen('state_changed', handle_event)\n",
    "    return True\n",
    "```"
   ]
  },
  {
   "cell_type": "markdown",
   "metadata": {
    "slideshow": {
     "slide_type": "slide"
    }
   },
   "source": [
    "## configuration.yml"
   ]
  },
  {
   "cell_type": "markdown",
   "metadata": {
    "slideshow": {
     "slide_type": "fragment"
    }
   },
   "source": [
    "```\n",
    "weasley_clock:\n",
    "  clock_host: \"10.8.0.10\"\n",
    "  entity_id: \"device_tracker.phone\"\n",
    "```"
   ]
  },
  {
   "cell_type": "markdown",
   "metadata": {
    "slideshow": {
     "slide_type": "slide"
    }
   },
   "source": [
    "## Saat Sunucusu"
   ]
  },
  {
   "cell_type": "markdown",
   "metadata": {
    "slideshow": {
     "slide_type": "fragment"
    }
   },
   "source": [
    "```\n",
    "import RPi.GPIO as GPIO\n",
    "import pico\n",
    "from pico import PicoApp\n",
    "from zones import zones\n",
    "\n",
    "GPIO.setmode(GPIO.BCM)\n",
    "GPIO.setup(18, GPIO.OUT)\n",
    "pwm = GPIO.PWM(18, 50)\n",
    "pwm.start(2.5)\n",
    "\n",
    "def set_angle(angle):\n",
    "    global pwm\n",
    "    duty = float(angle) / 20.0 + 2.5\n",
    "    pwm.ChangeDutyCycle(duty)\n",
    "\n",
    "@pico.expose()\n",
    "def ping(zone):\n",
    "    set_angle(zones[zone])\n",
    "\n",
    "app = PicoApp()\n",
    "app.register_module(__name__)\n",
    "```"
   ]
  },
  {
   "cell_type": "markdown",
   "metadata": {
    "slideshow": {
     "slide_type": "slide"
    }
   },
   "source": [
    "# Teşekkürler\n",
    "\n",
    "🤗"
   ]
  }
 ],
 "metadata": {
  "celltoolbar": "Slideshow",
  "kernelspec": {
   "display_name": "Python 3",
   "language": "python",
   "name": "python3"
  },
  "language_info": {
   "codemirror_mode": {
    "name": "ipython",
    "version": 3
   },
   "file_extension": ".py",
   "mimetype": "text/x-python",
   "name": "python",
   "nbconvert_exporter": "python",
   "pygments_lexer": "ipython3",
   "version": "3.6.4"
  },
  "livereveal": {
   "theme": "serif"
  }
 },
 "nbformat": 4,
 "nbformat_minor": 2
}
